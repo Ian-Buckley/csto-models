{
 "cells": [
  {
   "cell_type": "markdown",
   "metadata": {},
   "source": [
    "# Pandas Datareader"
   ]
  },
  {
   "cell_type": "markdown",
   "metadata": {},
   "source": [
    "#### Introduction"
   ]
  },
  {
   "cell_type": "markdown",
   "metadata": {},
   "source": [
    "Remote data access for pandas    \r\n",
    "For a list of supported data sources, see [index](https://pydata.github.io/pandas-datareader/readers/index.html)  \r\n",
    "For instructions on the use of each, see [remote data](https://pydata.github.io/pandas-datareader/remote_data.html)"
   ]
  },
  {
   "cell_type": "markdown",
   "metadata": {},
   "source": [
    "https://github.com/pydata/pandas-datareader   \r\n",
    "https://pydata.github.io/pandas-datareader/"
   ]
  },
  {
   "cell_type": "markdown",
   "metadata": {},
   "source": [
    "## Install & import"
   ]
  },
  {
   "cell_type": "code",
   "execution_count": 1,
   "metadata": {},
   "outputs": [],
   "source": [
    "# pip install pandas-datareader"
   ]
  },
  {
   "cell_type": "code",
   "execution_count": 4,
   "metadata": {},
   "outputs": [],
   "source": [
    "import pandas_datareader as pdr\r\n",
    "import pandas as pd"
   ]
  },
  {
   "cell_type": "markdown",
   "metadata": {},
   "source": [
    "#### Simple test - Fred"
   ]
  },
  {
   "cell_type": "code",
   "execution_count": null,
   "metadata": {},
   "outputs": [],
   "source": [
    "pdr.get_data_fred('GS10')"
   ]
  },
  {
   "cell_type": "markdown",
   "metadata": {},
   "source": [
    "## Bank of Canada - valet API"
   ]
  },
  {
   "cell_type": "markdown",
   "metadata": {},
   "source": [
    "#### Links"
   ]
  },
  {
   "cell_type": "markdown",
   "metadata": {},
   "source": [
    "https://pydata.github.io/pandas-datareader/readers/bank-of-canada.html   \n",
    "https://www.bankofcanada.ca/valet/docs   \n"
   ]
  },
  {
   "cell_type": "markdown",
   "metadata": {},
   "source": [
    "* https://www.bankofcanada.ca/rates/interest-rates/\r\n",
    "    * https://www.bankofcanada.ca/rates/interest-rates/money-market-yields/     \r\n",
    "    * https://www.bankofcanada.ca/rates/interest-rates/corra/    \r\n",
    "    * https://www.bankofcanada.ca/rates/interest-rates/canadian-bonds/\r\n",
    "    * https://www.bankofcanada.ca/rates/interest-rates/bond-yield-curves/"
   ]
  },
  {
   "cell_type": "markdown",
   "metadata": {},
   "source": [
    "### Pandas datareader for Bank of Canada for USD-CAD FX rate"
   ]
  },
  {
   "cell_type": "code",
   "execution_count": 30,
   "metadata": {},
   "outputs": [],
   "source": [
    "pdr_boc = pdr.bankofcanada.BankOfCanadaReader( 'FXUSDCAD',start='JAN-01-2020')"
   ]
  },
  {
   "cell_type": "markdown",
   "metadata": {},
   "source": [
    "#### Results"
   ]
  },
  {
   "cell_type": "code",
   "execution_count": 11,
   "metadata": {},
   "outputs": [
    {
     "data": {
      "text/html": "<div>\n<style scoped>\n    .dataframe tbody tr th:only-of-type {\n        vertical-align: middle;\n    }\n\n    .dataframe tbody tr th {\n        vertical-align: top;\n    }\n\n    .dataframe thead th {\n        text-align: right;\n    }\n</style>\n<table border=\"1\" class=\"dataframe\">\n  <thead>\n    <tr style=\"text-align: right;\">\n      <th></th>\n      <th>FXUSDCAD</th>\n    </tr>\n    <tr>\n      <th>date\"</th>\n      <th></th>\n    </tr>\n  </thead>\n  <tbody>\n    <tr>\n      <th>2018-12-31</th>\n      <td>1.3642</td>\n    </tr>\n    <tr>\n      <th>2018-12-28</th>\n      <td>1.3638</td>\n    </tr>\n    <tr>\n      <th>2018-12-27</th>\n      <td>1.3641</td>\n    </tr>\n    <tr>\n      <th>2018-12-24</th>\n      <td>1.3589</td>\n    </tr>\n    <tr>\n      <th>2018-12-21</th>\n      <td>1.3566</td>\n    </tr>\n    <tr>\n      <th>...</th>\n      <td>...</td>\n    </tr>\n    <tr>\n      <th>2018-01-08</th>\n      <td>1.2422</td>\n    </tr>\n    <tr>\n      <th>2018-01-05</th>\n      <td>1.2403</td>\n    </tr>\n    <tr>\n      <th>2018-01-04</th>\n      <td>1.2515</td>\n    </tr>\n    <tr>\n      <th>2018-01-03</th>\n      <td>1.2533</td>\n    </tr>\n    <tr>\n      <th>2018-01-02</th>\n      <td>1.2517</td>\n    </tr>\n  </tbody>\n</table>\n<p>250 rows × 1 columns</p>\n</div>",
      "text/plain": [
       "            FXUSDCAD\n",
       "\\ndate\"             \n",
       "2018-12-31    1.3642\n",
       "2018-12-28    1.3638\n",
       "2018-12-27    1.3641\n",
       "2018-12-24    1.3589\n",
       "2018-12-21    1.3566\n",
       "...              ...\n",
       "2018-01-08    1.2422\n",
       "2018-01-05    1.2403\n",
       "2018-01-04    1.2515\n",
       "2018-01-03    1.2533\n",
       "2018-01-02    1.2517\n",
       "\n",
       "[250 rows x 1 columns]"
      ]
     },
     "execution_count": 11,
     "metadata": {},
     "output_type": "execute_result"
    }
   ],
   "source": [
    "pdr_boc.read()"
   ]
  },
  {
   "cell_type": "markdown",
   "metadata": {},
   "source": [
    "### CORRA"
   ]
  },
  {
   "cell_type": "markdown",
   "metadata": {},
   "source": [
    "#### CORRA fields"
   ]
  },
  {
   "cell_type": "markdown",
   "metadata": {},
   "source": [
    "Method `bankofcanada.BankOfCanadaReader` does not accept a python list of fields. Instead they must be joined into a single string. "
   ]
  },
  {
   "cell_type": "code",
   "execution_count": 10,
   "metadata": {},
   "outputs": [],
   "source": [
    "fields = ['AVG.INTWO','CORRA_TOTAL_VOLUME','CORRA_TRIMMED_VOLUME','CORRA_NUMBER_OF_SUBMITTERS','CORRA_RATE_AT_TRIM','CORRA_RATE_AT_PERCENTILE_5','CORRA_RATE_AT_PERCENTILE_25','CORRA_RATE_AT_PERCENTILE_75','CORRA_RATE_AT_PERCENTILE_95']\r\n",
    "fieldsstring = ','.join(fields[0:2])"
   ]
  },
  {
   "cell_type": "code",
   "execution_count": 11,
   "metadata": {},
   "outputs": [
    {
     "data": {
      "text/plain": "'AVG.INTWO,CORRA_TOTAL_VOLUME'"
     },
     "execution_count": 11,
     "metadata": {},
     "output_type": "execute_result"
    }
   ],
   "source": [
    "fieldsstring"
   ]
  },
  {
   "cell_type": "code",
   "execution_count": 13,
   "metadata": {},
   "outputs": [],
   "source": [
    "pdr_boc = pdr.bankofcanada.BankOfCanadaReader( fieldsstring, start='JAN-01-2020',end='DEC-01-2020')\r\n",
    "df_corra = pdr_boc.read()"
   ]
  },
  {
   "cell_type": "markdown",
   "metadata": {},
   "source": [
    "##### Results `df_corra`"
   ]
  },
  {
   "cell_type": "markdown",
   "metadata": {},
   "source": [
    "#### Create `BankOfCanadaReader` "
   ]
  },
  {
   "cell_type": "code",
   "execution_count": 7,
   "metadata": {},
   "outputs": [],
   "source": [
    "import pandas_datareader as pdr\r\n",
    "fields = ['AVG.INTWO','CORRA_TOTAL_VOLUME','CORRA_TRIMMED_VOLUME','CORRA_NUMBER_OF_SUBMITTERS','CORRA_RATE_AT_TRIM','CORRA_RATE_AT_PERCENTILE_5','CORRA_RATE_AT_PERCENTILE_25','CORRA_RATE_AT_PERCENTILE_75','CORRA_RATE_AT_PERCENTILE_95']\r\n",
    "myfields = 0:2\r\n",
    "fieldsstring = ','.join(fields[myfields])\r\n",
    "pdr_boc = pdr.bankofcanada.BankOfCanadaReader( fieldsstring, start='JAN-01-2018') #,end='DEC-01-2020')\r\n",
    "df_corra = pdr_boc.read()\r\n",
    "df_corra['Date'] = df_corra.index"
   ]
  },
  {
   "cell_type": "markdown",
   "metadata": {},
   "source": [
    "#### Results `df_corra`"
   ]
  },
  {
   "cell_type": "code",
   "execution_count": null,
   "metadata": {},
   "outputs": [],
   "source": [
    "df_corra"
   ]
  },
  {
   "cell_type": "markdown",
   "metadata": {},
   "source": [
    "### Bond yields"
   ]
  },
  {
   "cell_type": "markdown",
   "metadata": {},
   "source": [
    "#### Series"
   ]
  },
  {
   "cell_type": "code",
   "execution_count": 5,
   "metadata": {},
   "outputs": [],
   "source": [
    "data =\\\r\n",
    "    [['CDN.AVG.1YTO3Y.AVG',\t'1 to 3 year\tGovernment of Canada marketable bonds - Average yield'],\r\n",
    "    ['CDN.AVG.3YTO5Y.AVG',\t'3 to 5 year\tGovernment of Canada marketable bonds - Average yield'],\r\n",
    "    ['CDN.AVG.5YTO10Y.AVG',\t'5 to 10 year\tGovernment of Canada marketable bonds - Average yield'],\r\n",
    "    ['CDN.AVG.OVER.10.AVG',\t'Over 10 years\tGovernment of Canada marketable bonds - Average yield'],\r\n",
    "    ['BD.CDN.2YR.DQ.YLD',\t'2 year\tGovernment of Canada benchmark bond yields'],\r\n",
    "    ['BD.CDN.3YR.DQ.YLD',\t'3 year\tGovernment of Canada benchmark bond yields'],\r\n",
    "    ['BD.CDN.5YR.DQ.YLD',\t'5 year\tGovernment of Canada benchmark bond yields'],\r\n",
    "    ['BD.CDN.7YR.DQ.YLD',\t'7 year\tGovernment of Canada benchmark bond yields'],\r\n",
    "    ['BD.CDN.10YR.DQ.YLD',\t'10 year\tGovernment of Canada benchmark bond yields'],\r\n",
    "    ['BD.CDN.LONG.DQ.YLD',\t'Long-term\tGovernment of Canada benchmark bond yields'],\r\n",
    "    ['BD.CDN.RRB.DQ.YLD',\t'Long-term\tReal return bond']]\r\n",
    "df_series_bond_yields = pd.DataFrame(data,columns = ['Label', 'Description'])\r\n"
   ]
  },
  {
   "cell_type": "markdown",
   "metadata": {},
   "source": [
    "##### Results `df_series_bond_yields` "
   ]
  },
  {
   "cell_type": "code",
   "execution_count": 6,
   "metadata": {},
   "outputs": [
    {
     "data": {
      "text/plain": "0      CDN.AVG.1YTO3Y.AVG\n1      CDN.AVG.3YTO5Y.AVG\n2     CDN.AVG.5YTO10Y.AVG\n3     CDN.AVG.OVER.10.AVG\n4       BD.CDN.2YR.DQ.YLD\n5       BD.CDN.3YR.DQ.YLD\n6       BD.CDN.5YR.DQ.YLD\n7       BD.CDN.7YR.DQ.YLD\n8      BD.CDN.10YR.DQ.YLD\n9      BD.CDN.LONG.DQ.YLD\n10      BD.CDN.RRB.DQ.YLD\nName: Label, dtype: object"
     },
     "execution_count": 6,
     "metadata": {},
     "output_type": "execute_result"
    }
   ],
   "source": [
    "df_series_bond_yields['Label'] \r\n"
   ]
  },
  {
   "cell_type": "markdown",
   "metadata": {},
   "source": [
    "#### All code together for easy pasting into Power BI"
   ]
  },
  {
   "cell_type": "code",
   "execution_count": 23,
   "metadata": {},
   "outputs": [],
   "source": [
    "import pandas_datareader as pdr\r\n",
    "fields = ['CDN.AVG.1YTO3Y.AVG','CDN.AVG.3YTO5Y.AVG','CDN.AVG.5YTO10Y.AVG','CDN.AVG.OVER.10.AVG','BD.CDN.2YR.DQ.YLD','BD.CDN.3YR.DQ.YLD','BD.CDN.5YR.DQ.YLD','BD.CDN.7YR.DQ.YLD','BD.CDN.10YR.DQ.YLD','BD.CDN.LONG.DQ.YLD','BD.CDN.RRB.DQ.YLD']\r\n",
    "fieldsstring = ','.join(fields)\r\n",
    "pdf_boc = pdr.bankofcanada.BankOfCanadaReader( fieldsstring, start='JAN-01-2018') #,end='DEC-01-2020')\r\n",
    "df_bond_yields = pdf_boc.read()\r\n",
    "df_bond_yields['Date'] = df_bond_yields.index"
   ]
  },
  {
   "cell_type": "markdown",
   "metadata": {},
   "source": [
    "##### Results `df_bond_yields`"
   ]
  },
  {
   "cell_type": "code",
   "execution_count": 24,
   "metadata": {},
   "outputs": [
    {
     "data": {
      "text/html": "<div>\n<style scoped>\n    .dataframe tbody tr th:only-of-type {\n        vertical-align: middle;\n    }\n\n    .dataframe tbody tr th {\n        vertical-align: top;\n    }\n\n    .dataframe thead th {\n        text-align: right;\n    }\n</style>\n<table border=\"1\" class=\"dataframe\">\n  <thead>\n    <tr style=\"text-align: right;\">\n      <th></th>\n      <th>BD.CDN.10YR.DQ.YLD</th>\n      <th>BD.CDN.2YR.DQ.YLD</th>\n      <th>BD.CDN.3YR.DQ.YLD</th>\n      <th>BD.CDN.5YR.DQ.YLD</th>\n      <th>BD.CDN.7YR.DQ.YLD</th>\n      <th>BD.CDN.LONG.DQ.YLD</th>\n      <th>BD.CDN.RRB.DQ.YLD</th>\n      <th>CDN.AVG.1YTO3Y.AVG</th>\n      <th>CDN.AVG.3YTO5Y.AVG</th>\n      <th>CDN.AVG.5YTO10Y.AVG</th>\n      <th>CDN.AVG.OVER.10.AVG</th>\n      <th>Date</th>\n    </tr>\n    <tr>\n      <th>date\"</th>\n      <th></th>\n      <th></th>\n      <th></th>\n      <th></th>\n      <th></th>\n      <th></th>\n      <th></th>\n      <th></th>\n      <th></th>\n      <th></th>\n      <th></th>\n      <th></th>\n    </tr>\n  </thead>\n  <tbody>\n    <tr>\n      <th>2020-11-30</th>\n      <td>0.67</td>\n      <td>0.25</td>\n      <td>0.29</td>\n      <td>0.43</td>\n      <td>0.49</td>\n      <td>1.17</td>\n      <td>-0.31</td>\n      <td>0.24</td>\n      <td>0.37</td>\n      <td>0.58</td>\n      <td>1.02</td>\n      <td>2020-11-30</td>\n    </tr>\n    <tr>\n      <th>2020-11-27</th>\n      <td>0.67</td>\n      <td>0.25</td>\n      <td>0.29</td>\n      <td>0.43</td>\n      <td>0.49</td>\n      <td>1.18</td>\n      <td>-0.30</td>\n      <td>0.24</td>\n      <td>0.37</td>\n      <td>0.57</td>\n      <td>1.02</td>\n      <td>2020-11-27</td>\n    </tr>\n    <tr>\n      <th>2020-11-26</th>\n      <td>0.69</td>\n      <td>0.26</td>\n      <td>0.30</td>\n      <td>0.44</td>\n      <td>0.50</td>\n      <td>1.21</td>\n      <td>-0.27</td>\n      <td>0.25</td>\n      <td>0.38</td>\n      <td>0.59</td>\n      <td>1.05</td>\n      <td>2020-11-26</td>\n    </tr>\n    <tr>\n      <th>2020-11-25</th>\n      <td>0.70</td>\n      <td>0.27</td>\n      <td>0.30</td>\n      <td>0.45</td>\n      <td>0.51</td>\n      <td>1.22</td>\n      <td>-0.26</td>\n      <td>0.26</td>\n      <td>0.39</td>\n      <td>0.60</td>\n      <td>1.06</td>\n      <td>2020-11-25</td>\n    </tr>\n    <tr>\n      <th>2020-11-24</th>\n      <td>0.72</td>\n      <td>0.27</td>\n      <td>0.31</td>\n      <td>0.45</td>\n      <td>0.51</td>\n      <td>1.22</td>\n      <td>-0.27</td>\n      <td>0.26</td>\n      <td>0.39</td>\n      <td>0.61</td>\n      <td>1.07</td>\n      <td>2020-11-24</td>\n    </tr>\n    <tr>\n      <th>...</th>\n      <td>...</td>\n      <td>...</td>\n      <td>...</td>\n      <td>...</td>\n      <td>...</td>\n      <td>...</td>\n      <td>...</td>\n      <td>...</td>\n      <td>...</td>\n      <td>...</td>\n      <td>...</td>\n      <td>...</td>\n    </tr>\n    <tr>\n      <th>2018-01-08</th>\n      <td>2.16</td>\n      <td>1.78</td>\n      <td>1.83</td>\n      <td>1.98</td>\n      <td>2.06</td>\n      <td>2.36</td>\n      <td>0.60</td>\n      <td>1.76</td>\n      <td>1.92</td>\n      <td>2.09</td>\n      <td>2.32</td>\n      <td>2018-01-08</td>\n    </tr>\n    <tr>\n      <th>2018-01-05</th>\n      <td>2.15</td>\n      <td>1.77</td>\n      <td>1.82</td>\n      <td>1.97</td>\n      <td>2.04</td>\n      <td>2.36</td>\n      <td>0.59</td>\n      <td>1.75</td>\n      <td>1.91</td>\n      <td>2.08</td>\n      <td>2.31</td>\n      <td>2018-01-05</td>\n    </tr>\n    <tr>\n      <th>2018-01-04</th>\n      <td>2.08</td>\n      <td>1.70</td>\n      <td>1.74</td>\n      <td>1.89</td>\n      <td>1.97</td>\n      <td>2.32</td>\n      <td>0.58</td>\n      <td>1.68</td>\n      <td>1.83</td>\n      <td>2.01</td>\n      <td>2.27</td>\n      <td>2018-01-04</td>\n    </tr>\n    <tr>\n      <th>2018-01-03</th>\n      <td>2.05</td>\n      <td>1.68</td>\n      <td>1.72</td>\n      <td>1.86</td>\n      <td>1.95</td>\n      <td>2.29</td>\n      <td>0.58</td>\n      <td>1.66</td>\n      <td>1.81</td>\n      <td>1.98</td>\n      <td>2.24</td>\n      <td>2018-01-03</td>\n    </tr>\n    <tr>\n      <th>2018-01-02</th>\n      <td>2.08</td>\n      <td>1.70</td>\n      <td>1.74</td>\n      <td>1.89</td>\n      <td>1.97</td>\n      <td>2.32</td>\n      <td>0.62</td>\n      <td>1.68</td>\n      <td>1.83</td>\n      <td>2.00</td>\n      <td>2.27</td>\n      <td>2018-01-02</td>\n    </tr>\n  </tbody>\n</table>\n<p>730 rows × 12 columns</p>\n</div>",
      "text/plain": "            BD.CDN.10YR.DQ.YLD  BD.CDN.2YR.DQ.YLD  BD.CDN.3YR.DQ.YLD  \\\n\\ndate\"                                                                \n2020-11-30                0.67               0.25               0.29   \n2020-11-27                0.67               0.25               0.29   \n2020-11-26                0.69               0.26               0.30   \n2020-11-25                0.70               0.27               0.30   \n2020-11-24                0.72               0.27               0.31   \n...                        ...                ...                ...   \n2018-01-08                2.16               1.78               1.83   \n2018-01-05                2.15               1.77               1.82   \n2018-01-04                2.08               1.70               1.74   \n2018-01-03                2.05               1.68               1.72   \n2018-01-02                2.08               1.70               1.74   \n\n            BD.CDN.5YR.DQ.YLD  BD.CDN.7YR.DQ.YLD  BD.CDN.LONG.DQ.YLD  \\\n\\ndate\"                                                                \n2020-11-30               0.43               0.49                1.17   \n2020-11-27               0.43               0.49                1.18   \n2020-11-26               0.44               0.50                1.21   \n2020-11-25               0.45               0.51                1.22   \n2020-11-24               0.45               0.51                1.22   \n...                       ...                ...                 ...   \n2018-01-08               1.98               2.06                2.36   \n2018-01-05               1.97               2.04                2.36   \n2018-01-04               1.89               1.97                2.32   \n2018-01-03               1.86               1.95                2.29   \n2018-01-02               1.89               1.97                2.32   \n\n            BD.CDN.RRB.DQ.YLD  CDN.AVG.1YTO3Y.AVG  CDN.AVG.3YTO5Y.AVG  \\\n\\ndate\"                                                                 \n2020-11-30              -0.31                0.24                0.37   \n2020-11-27              -0.30                0.24                0.37   \n2020-11-26              -0.27                0.25                0.38   \n2020-11-25              -0.26                0.26                0.39   \n2020-11-24              -0.27                0.26                0.39   \n...                       ...                 ...                 ...   \n2018-01-08               0.60                1.76                1.92   \n2018-01-05               0.59                1.75                1.91   \n2018-01-04               0.58                1.68                1.83   \n2018-01-03               0.58                1.66                1.81   \n2018-01-02               0.62                1.68                1.83   \n\n            CDN.AVG.5YTO10Y.AVG  CDN.AVG.OVER.10.AVG       Date  \n\\ndate\"                                                          \n2020-11-30                 0.58                 1.02 2020-11-30  \n2020-11-27                 0.57                 1.02 2020-11-27  \n2020-11-26                 0.59                 1.05 2020-11-26  \n2020-11-25                 0.60                 1.06 2020-11-25  \n2020-11-24                 0.61                 1.07 2020-11-24  \n...                         ...                  ...        ...  \n2018-01-08                 2.09                 2.32 2018-01-08  \n2018-01-05                 2.08                 2.31 2018-01-05  \n2018-01-04                 2.01                 2.27 2018-01-04  \n2018-01-03                 1.98                 2.24 2018-01-03  \n2018-01-02                 2.00                 2.27 2018-01-02  \n\n[730 rows x 12 columns]"
     },
     "execution_count": 24,
     "metadata": {},
     "output_type": "execute_result"
    }
   ],
   "source": [
    "df_bond_yields"
   ]
  },
  {
   "cell_type": "markdown",
   "metadata": {},
   "source": [
    "### Assets & liabilities"
   ]
  },
  {
   "cell_type": "markdown",
   "metadata": {},
   "source": [
    "https://www.bankofcanada.ca/rates/banking-and-financial-statistics/bank-of-canada-assets-and-liabilities-weekly-formerly-b2/"
   ]
  },
  {
   "cell_type": "markdown",
   "metadata": {},
   "source": [
    "#### Series"
   ]
  },
  {
   "cell_type": "code",
   "execution_count": 28,
   "metadata": {},
   "outputs": [],
   "source": [
    "data_al = [\r\n",
    "    #['id','label','description'],\r\n",
    "    ['V36612','Treasury Bills','Assets - Government of Canada direct and guaranteed securities'],\r\n",
    "    ['V36613','Government of Canada Bonds','Assets - Government of Canada direct and guaranteed securities'],\r\n",
    "    ['V1160788296','Real Return Bonds','Assets - Government of Canada direct and guaranteed securities'],\r\n",
    "    ['V1038114416','Canada Mortgage Bonds','Assets - Government of Canada direct and guaranteed securities'],\r\n",
    "    ['v1146067261','Provincial Money Market Securities','Assets'],\r\n",
    "    ['v1154426989','Provincial Bonds','Assets'],\r\n",
    "    ['v1146067262','Bankers’ Acceptances','Assets'],\r\n",
    "    ['v1146067263','Commercial Paper','Assets'],\r\n",
    "    ['v1154426990','Corporate Bonds','Assets'],\r\n",
    "    ['V36634','Advances','Assets'],\r\n",
    "    ['V44201362','Securities purchased under resale agreements','Assets'],\r\n",
    "    ['v1154426991','Derivatives: Indemnity agreements with the Government of Canada','Assets'],\r\n",
    "    ['V36635','All other assets','Assets'],\r\n",
    "    ['V36610','Total assets','Assets'],\r\n",
    "    ['V36625','Notes in circulation','Liabilities and capital'],\r\n",
    "    ['V36628','Government of Canada','Liabilities and capital - Canadian dollar deposits'],\r\n",
    "    ['V36636','Members of Payments Canada','Liabilities and capital - Canadian dollar deposits'],\r\n",
    "    ['v1146067264','Other','Liabilities and capital - Canadian dollar deposits'],\r\n",
    "    ['V1203435186','Securities sold under repurchase agreements','Liabilities and capital'],\r\n",
    "    ['V1210798115','Derivatives: Indemnity agreements with the Government of Canada','Liabilities and capital'],\r\n",
    "    ['V36632','All other liabilities and capital','Liabilities and capital'],\r\n",
    "    ['V36624','Total liabilities and capital','Liabilities and capital']]\r\n",
    "df_series_al = pd.DataFrame(data_al,columns = ['Id','Label', 'Description'])\r\n"
   ]
  },
  {
   "cell_type": "markdown",
   "metadata": {},
   "source": [
    "##### Results `df_series_al`"
   ]
  },
  {
   "cell_type": "code",
   "execution_count": 29,
   "metadata": {},
   "outputs": [
    {
     "data": {
      "text/html": "<div>\n<style scoped>\n    .dataframe tbody tr th:only-of-type {\n        vertical-align: middle;\n    }\n\n    .dataframe tbody tr th {\n        vertical-align: top;\n    }\n\n    .dataframe thead th {\n        text-align: right;\n    }\n</style>\n<table border=\"1\" class=\"dataframe\">\n  <thead>\n    <tr style=\"text-align: right;\">\n      <th></th>\n      <th>Id</th>\n      <th>Label</th>\n      <th>Description</th>\n    </tr>\n  </thead>\n  <tbody>\n    <tr>\n      <th>0</th>\n      <td>V36612</td>\n      <td>Treasury Bills</td>\n      <td>Assets - Government of Canada direct and guara...</td>\n    </tr>\n    <tr>\n      <th>1</th>\n      <td>V36613</td>\n      <td>Government of Canada Bonds</td>\n      <td>Assets - Government of Canada direct and guara...</td>\n    </tr>\n    <tr>\n      <th>2</th>\n      <td>V1160788296</td>\n      <td>Real Return Bonds</td>\n      <td>Assets - Government of Canada direct and guara...</td>\n    </tr>\n    <tr>\n      <th>3</th>\n      <td>V1038114416</td>\n      <td>Canada Mortgage Bonds</td>\n      <td>Assets - Government of Canada direct and guara...</td>\n    </tr>\n    <tr>\n      <th>4</th>\n      <td>v1146067261</td>\n      <td>Provincial Money Market Securities</td>\n      <td>Assets</td>\n    </tr>\n    <tr>\n      <th>5</th>\n      <td>v1154426989</td>\n      <td>Provincial Bonds</td>\n      <td>Assets</td>\n    </tr>\n    <tr>\n      <th>6</th>\n      <td>v1146067262</td>\n      <td>Bankers’ Acceptances</td>\n      <td>Assets</td>\n    </tr>\n    <tr>\n      <th>7</th>\n      <td>v1146067263</td>\n      <td>Commercial Paper</td>\n      <td>Assets</td>\n    </tr>\n    <tr>\n      <th>8</th>\n      <td>v1154426990</td>\n      <td>Corporate Bonds</td>\n      <td>Assets</td>\n    </tr>\n    <tr>\n      <th>9</th>\n      <td>V36634</td>\n      <td>Advances</td>\n      <td>Assets</td>\n    </tr>\n    <tr>\n      <th>10</th>\n      <td>V44201362</td>\n      <td>Securities purchased under resale agreements</td>\n      <td>Assets</td>\n    </tr>\n    <tr>\n      <th>11</th>\n      <td>v1154426991</td>\n      <td>Derivatives: Indemnity agreements with the Gov...</td>\n      <td>Assets</td>\n    </tr>\n    <tr>\n      <th>12</th>\n      <td>V36635</td>\n      <td>All other assets</td>\n      <td>Assets</td>\n    </tr>\n    <tr>\n      <th>13</th>\n      <td>V36610</td>\n      <td>Total assets</td>\n      <td>Assets</td>\n    </tr>\n    <tr>\n      <th>14</th>\n      <td>V36625</td>\n      <td>Notes in circulation</td>\n      <td>Liabilities and capital</td>\n    </tr>\n    <tr>\n      <th>15</th>\n      <td>V36628</td>\n      <td>Government of Canada</td>\n      <td>Liabilities and capital - Canadian dollar depo...</td>\n    </tr>\n    <tr>\n      <th>16</th>\n      <td>V36636</td>\n      <td>Members of Payments Canada</td>\n      <td>Liabilities and capital - Canadian dollar depo...</td>\n    </tr>\n    <tr>\n      <th>17</th>\n      <td>v1146067264</td>\n      <td>Other</td>\n      <td>Liabilities and capital - Canadian dollar depo...</td>\n    </tr>\n    <tr>\n      <th>18</th>\n      <td>V1203435186</td>\n      <td>Securities sold under repurchase agreements</td>\n      <td>Liabilities and capital</td>\n    </tr>\n    <tr>\n      <th>19</th>\n      <td>V1210798115</td>\n      <td>Derivatives: Indemnity agreements with the Gov...</td>\n      <td>Liabilities and capital</td>\n    </tr>\n    <tr>\n      <th>20</th>\n      <td>V36632</td>\n      <td>All other liabilities and capital</td>\n      <td>Liabilities and capital</td>\n    </tr>\n    <tr>\n      <th>21</th>\n      <td>V36624</td>\n      <td>Total liabilities and capital</td>\n      <td>Liabilities and capital</td>\n    </tr>\n  </tbody>\n</table>\n</div>",
      "text/plain": "             Id                                              Label  \\\n0        V36612                                     Treasury Bills   \n1        V36613                         Government of Canada Bonds   \n2   V1160788296                                  Real Return Bonds   \n3   V1038114416                              Canada Mortgage Bonds   \n4   v1146067261                 Provincial Money Market Securities   \n5   v1154426989                                   Provincial Bonds   \n6   v1146067262                               Bankers’ Acceptances   \n7   v1146067263                                   Commercial Paper   \n8   v1154426990                                    Corporate Bonds   \n9        V36634                                           Advances   \n10    V44201362       Securities purchased under resale agreements   \n11  v1154426991  Derivatives: Indemnity agreements with the Gov...   \n12       V36635                                   All other assets   \n13       V36610                                       Total assets   \n14       V36625                               Notes in circulation   \n15       V36628                               Government of Canada   \n16       V36636                         Members of Payments Canada   \n17  v1146067264                                              Other   \n18  V1203435186        Securities sold under repurchase agreements   \n19  V1210798115  Derivatives: Indemnity agreements with the Gov...   \n20       V36632                  All other liabilities and capital   \n21       V36624                      Total liabilities and capital   \n\n                                          Description  \n0   Assets - Government of Canada direct and guara...  \n1   Assets - Government of Canada direct and guara...  \n2   Assets - Government of Canada direct and guara...  \n3   Assets - Government of Canada direct and guara...  \n4                                              Assets  \n5                                              Assets  \n6                                              Assets  \n7                                              Assets  \n8                                              Assets  \n9                                              Assets  \n10                                             Assets  \n11                                             Assets  \n12                                             Assets  \n13                                             Assets  \n14                            Liabilities and capital  \n15  Liabilities and capital - Canadian dollar depo...  \n16  Liabilities and capital - Canadian dollar depo...  \n17  Liabilities and capital - Canadian dollar depo...  \n18                            Liabilities and capital  \n19                            Liabilities and capital  \n20                            Liabilities and capital  \n21                            Liabilities and capital  "
     },
     "execution_count": 29,
     "metadata": {},
     "output_type": "execute_result"
    }
   ],
   "source": [
    "df_series_al"
   ]
  },
  {
   "cell_type": "markdown",
   "metadata": {},
   "source": [
    "## Other sources"
   ]
  },
  {
   "cell_type": "markdown",
   "metadata": {},
   "source": [
    "### EconDB"
   ]
  },
  {
   "cell_type": "markdown",
   "metadata": {},
   "source": [
    "https://github.com/pydata/pandas-datareader/blob/master/docs/source/remote_data.rst"
   ]
  },
  {
   "cell_type": "code",
   "execution_count": 32,
   "metadata": {},
   "outputs": [
    {
     "data": {
      "text/html": "<div>\n<style scoped>\n    .dataframe tbody tr th:only-of-type {\n        vertical-align: middle;\n    }\n\n    .dataframe tbody tr th {\n        vertical-align: top;\n    }\n\n    .dataframe thead tr th {\n        text-align: left;\n    }\n\n    .dataframe thead tr:last-of-type th {\n        text-align: right;\n    }\n</style>\n<table border=\"1\" class=\"dataframe\">\n  <thead>\n    <tr>\n      <th>Geography</th>\n      <th>Canada</th>\n    </tr>\n    <tr>\n      <th>Prices</th>\n      <th>Chained (2012) dollars</th>\n    </tr>\n    <tr>\n      <th>Seasonal adjustment</th>\n      <th>Seasonally adjusted at annual rates</th>\n    </tr>\n    <tr>\n      <th>Estimates</th>\n      <th>Gross domestic product at market prices</th>\n    </tr>\n    <tr>\n      <th>Scalar Factor</th>\n      <th>millions</th>\n    </tr>\n    <tr>\n      <th>Unit of measure</th>\n      <th>Dollars</th>\n    </tr>\n    <tr>\n      <th>TIME_PERIOD</th>\n      <th></th>\n    </tr>\n  </thead>\n  <tbody>\n    <tr>\n      <th>2016-01-01</th>\n      <td>1949923</td>\n    </tr>\n    <tr>\n      <th>2016-04-01</th>\n      <td>1940335</td>\n    </tr>\n    <tr>\n      <th>2016-07-01</th>\n      <td>1960344</td>\n    </tr>\n    <tr>\n      <th>2016-10-01</th>\n      <td>1971351</td>\n    </tr>\n    <tr>\n      <th>2017-01-01</th>\n      <td>1994056</td>\n    </tr>\n  </tbody>\n</table>\n</div>",
      "text/plain": "Geography                                            Canada\nPrices                               Chained (2012) dollars\nSeasonal adjustment     Seasonally adjusted at annual rates\nEstimates           Gross domestic product at market prices\nScalar Factor                                      millions\nUnit of measure                                     Dollars\nTIME_PERIOD                                                \n2016-01-01                                          1949923\n2016-04-01                                          1940335\n2016-07-01                                          1960344\n2016-10-01                                          1971351\n2017-01-01                                          1994056"
     },
     "execution_count": 32,
     "metadata": {},
     "output_type": "execute_result"
    }
   ],
   "source": [
    "import pandas_datareader.data as web\r\n",
    "f = web.DataReader('ticker=RGDPCA', 'econdb')\r\n",
    "f.head()"
   ]
  },
  {
   "cell_type": "code",
   "execution_count": null,
   "metadata": {},
   "outputs": [],
   "source": []
  }
 ],
 "metadata": {
  "kernelspec": {
   "display_name": "Python 3",
   "name": "python3"
  },
  "language_info": {
   "codemirror_mode": {
    "name": "ipython",
    "version": 3
   },
   "file_extension": ".py",
   "mimetype": "text/x-python",
   "name": "python",
   "nbconvert_exporter": "python",
   "pygments_lexer": "ipython3",
   "version": "3.8.3"
  },
  "orig_nbformat": 2
 },
 "nbformat": 4,
 "nbformat_minor": 2
}